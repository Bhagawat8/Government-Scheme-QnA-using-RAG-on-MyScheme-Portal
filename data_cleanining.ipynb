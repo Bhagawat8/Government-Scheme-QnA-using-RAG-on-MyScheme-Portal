{
 "cells": [
  {
   "cell_type": "code",
   "execution_count": 303,
   "id": "b6b24c62-2e8e-4a68-a3b6-4cf1f32811eb",
   "metadata": {},
   "outputs": [],
   "source": [
    "import pandas as pd\n",
    "import numpy as np\n",
    "import ast\n",
    "import re\n",
    "import html"
   ]
  },
  {
   "cell_type": "code",
   "execution_count": 304,
   "id": "eced2615-c554-40d2-9cbf-c1942721c56c",
   "metadata": {},
   "outputs": [],
   "source": [
    "df = pd.read_csv(\"schemes_data_scraped.csv\")"
   ]
  },
  {
   "cell_type": "code",
   "execution_count": 305,
   "id": "fbab52ae-7a7d-492f-ae5a-8ce7313fcfa5",
   "metadata": {},
   "outputs": [
    {
     "name": "stdout",
     "output_type": "stream",
     "text": [
      "<class 'pandas.core.frame.DataFrame'>\n",
      "RangeIndex: 3323 entries, 0 to 3322\n",
      "Data columns (total 10 columns):\n",
      " #   Column                        Non-Null Count  Dtype \n",
      "---  ------                        --------------  ----- \n",
      " 0   Scheme Name                   3313 non-null   object\n",
      " 1   Ministries/Departments/State  3313 non-null   object\n",
      " 2   Eligibility                   3313 non-null   object\n",
      " 3   Details                       3313 non-null   object\n",
      " 4   Tags                          3313 non-null   object\n",
      " 5   Application Process           3313 non-null   object\n",
      " 6   Benefits                      3313 non-null   object\n",
      " 7   Documents Required            3311 non-null   object\n",
      " 8   Source URL                    3323 non-null   object\n",
      " 9   error                         10 non-null     object\n",
      "dtypes: object(10)\n",
      "memory usage: 259.7+ KB\n"
     ]
    }
   ],
   "source": [
    "df.info()"
   ]
  },
  {
   "cell_type": "code",
   "execution_count": 306,
   "id": "f76ceead-9a06-4477-9a0c-d61c6320724b",
   "metadata": {},
   "outputs": [
    {
     "data": {
      "text/html": [
       "<div>\n",
       "<style scoped>\n",
       "    .dataframe tbody tr th:only-of-type {\n",
       "        vertical-align: middle;\n",
       "    }\n",
       "\n",
       "    .dataframe tbody tr th {\n",
       "        vertical-align: top;\n",
       "    }\n",
       "\n",
       "    .dataframe thead th {\n",
       "        text-align: right;\n",
       "    }\n",
       "</style>\n",
       "<table border=\"1\" class=\"dataframe\">\n",
       "  <thead>\n",
       "    <tr style=\"text-align: right;\">\n",
       "      <th></th>\n",
       "      <th>Scheme Name</th>\n",
       "      <th>Ministries/Departments/State</th>\n",
       "      <th>Eligibility</th>\n",
       "      <th>Details</th>\n",
       "      <th>Tags</th>\n",
       "      <th>Application Process</th>\n",
       "      <th>Benefits</th>\n",
       "      <th>Documents Required</th>\n",
       "      <th>Source URL</th>\n",
       "      <th>error</th>\n",
       "    </tr>\n",
       "  </thead>\n",
       "  <tbody>\n",
       "    <tr>\n",
       "      <th>2681</th>\n",
       "      <td>Scheme for Promoting Young Talents in Science-I</td>\n",
       "      <td>{'State': 'Kerala', 'Department': 'Science and...</td>\n",
       "      <td>1. The school students (maximum of 5 students ...</td>\n",
       "      <td>The scheme “Scheme for Promoting Young Talents...</td>\n",
       "      <td>['Financial Assistance', 'Science Project', 'S...</td>\n",
       "      <td>[['Step 01: Proposals in the prescribed format...</td>\n",
       "      <td>Groups of a maximum of 5 students of Class VII...</td>\n",
       "      <td>1.\\tDetails of students\\n2.\\tDetails of projec...</td>\n",
       "      <td>https://www.myscheme.gov.in/schemes/spytis-i</td>\n",
       "      <td>NaN</td>\n",
       "    </tr>\n",
       "    <tr>\n",
       "      <th>437</th>\n",
       "      <td>Micro Nutrient Spray</td>\n",
       "      <td>{'State': 'Tamil Nadu', 'Department': 'Agricul...</td>\n",
       "      <td>\\n  - The beneficiary should be a Farmer.\\n  -...</td>\n",
       "      <td>The “Micro Nutrient Spray” scheme by the Agric...</td>\n",
       "      <td>['Agriculture', 'Farmer', 'Micro Nutrient Spra...</td>\n",
       "      <td>[['Step 1: Collect the application form from t...</td>\n",
       "      <td>Financial Assistance:\\n50% subsidy or ₹70/- pe...</td>\n",
       "      <td>Proof of identity (Aadhar card, Voter ID)\\nLan...</td>\n",
       "      <td>https://www.myscheme.gov.in/schemes/mns</td>\n",
       "      <td>NaN</td>\n",
       "    </tr>\n",
       "    <tr>\n",
       "      <th>3192</th>\n",
       "      <td>Award of Pre-Matric Scholarship to Other Econo...</td>\n",
       "      <td>{'State': 'Puducherry', 'Department': 'School ...</td>\n",
       "      <td>\\n- The applicant should be a citizen of India...</td>\n",
       "      <td>The &amp;quot;Award of Pre-Matric Scholarship to O...</td>\n",
       "      <td>['Education', 'OEBC', 'Scholarship', 'School',...</td>\n",
       "      <td>[['Step 1: The interested applicant should tak...</td>\n",
       "      <td>Rate of Scholarship\\nFor standards 6 to 8: ₹50...</td>\n",
       "      <td>Nativity/Citizenship/Residential Certificate, ...</td>\n",
       "      <td>https://www.myscheme.gov.in/schemes/apmsoebcs</td>\n",
       "      <td>NaN</td>\n",
       "    </tr>\n",
       "  </tbody>\n",
       "</table>\n",
       "</div>"
      ],
      "text/plain": [
       "                                            Scheme Name  \\\n",
       "2681    Scheme for Promoting Young Talents in Science-I   \n",
       "437                                Micro Nutrient Spray   \n",
       "3192  Award of Pre-Matric Scholarship to Other Econo...   \n",
       "\n",
       "                           Ministries/Departments/State  \\\n",
       "2681  {'State': 'Kerala', 'Department': 'Science and...   \n",
       "437   {'State': 'Tamil Nadu', 'Department': 'Agricul...   \n",
       "3192  {'State': 'Puducherry', 'Department': 'School ...   \n",
       "\n",
       "                                            Eligibility  \\\n",
       "2681  1. The school students (maximum of 5 students ...   \n",
       "437   \\n  - The beneficiary should be a Farmer.\\n  -...   \n",
       "3192  \\n- The applicant should be a citizen of India...   \n",
       "\n",
       "                                                Details  \\\n",
       "2681  The scheme “Scheme for Promoting Young Talents...   \n",
       "437   The “Micro Nutrient Spray” scheme by the Agric...   \n",
       "3192  The &quot;Award of Pre-Matric Scholarship to O...   \n",
       "\n",
       "                                                   Tags  \\\n",
       "2681  ['Financial Assistance', 'Science Project', 'S...   \n",
       "437   ['Agriculture', 'Farmer', 'Micro Nutrient Spra...   \n",
       "3192  ['Education', 'OEBC', 'Scholarship', 'School',...   \n",
       "\n",
       "                                    Application Process  \\\n",
       "2681  [['Step 01: Proposals in the prescribed format...   \n",
       "437   [['Step 1: Collect the application form from t...   \n",
       "3192  [['Step 1: The interested applicant should tak...   \n",
       "\n",
       "                                               Benefits  \\\n",
       "2681  Groups of a maximum of 5 students of Class VII...   \n",
       "437   Financial Assistance:\\n50% subsidy or ₹70/- pe...   \n",
       "3192  Rate of Scholarship\\nFor standards 6 to 8: ₹50...   \n",
       "\n",
       "                                     Documents Required  \\\n",
       "2681  1.\\tDetails of students\\n2.\\tDetails of projec...   \n",
       "437   Proof of identity (Aadhar card, Voter ID)\\nLan...   \n",
       "3192  Nativity/Citizenship/Residential Certificate, ...   \n",
       "\n",
       "                                         Source URL error  \n",
       "2681   https://www.myscheme.gov.in/schemes/spytis-i   NaN  \n",
       "437         https://www.myscheme.gov.in/schemes/mns   NaN  \n",
       "3192  https://www.myscheme.gov.in/schemes/apmsoebcs   NaN  "
      ]
     },
     "execution_count": 306,
     "metadata": {},
     "output_type": "execute_result"
    }
   ],
   "source": [
    "df.sample(3)"
   ]
  },
  {
   "cell_type": "code",
   "execution_count": 307,
   "id": "b4e5d4b1-94cf-4d39-b903-9efc6d0afe6d",
   "metadata": {},
   "outputs": [],
   "source": [
    "df = df.drop(columns= ['error'])"
   ]
  },
  {
   "cell_type": "code",
   "execution_count": 308,
   "id": "fbdf262b-03b6-421a-abb1-335c2d034036",
   "metadata": {},
   "outputs": [
    {
     "data": {
      "text/html": [
       "<div>\n",
       "<style scoped>\n",
       "    .dataframe tbody tr th:only-of-type {\n",
       "        vertical-align: middle;\n",
       "    }\n",
       "\n",
       "    .dataframe tbody tr th {\n",
       "        vertical-align: top;\n",
       "    }\n",
       "\n",
       "    .dataframe thead th {\n",
       "        text-align: right;\n",
       "    }\n",
       "</style>\n",
       "<table border=\"1\" class=\"dataframe\">\n",
       "  <thead>\n",
       "    <tr style=\"text-align: right;\">\n",
       "      <th></th>\n",
       "      <th>Scheme Name</th>\n",
       "      <th>Ministries/Departments/State</th>\n",
       "      <th>Eligibility</th>\n",
       "      <th>Details</th>\n",
       "      <th>Tags</th>\n",
       "      <th>Application Process</th>\n",
       "      <th>Benefits</th>\n",
       "      <th>Documents Required</th>\n",
       "      <th>Source URL</th>\n",
       "    </tr>\n",
       "  </thead>\n",
       "  <tbody>\n",
       "    <tr>\n",
       "      <th>900</th>\n",
       "      <td>NaN</td>\n",
       "      <td>NaN</td>\n",
       "      <td>NaN</td>\n",
       "      <td>NaN</td>\n",
       "      <td>NaN</td>\n",
       "      <td>NaN</td>\n",
       "      <td>NaN</td>\n",
       "      <td>NaN</td>\n",
       "      <td>https://www.myscheme.gov.in/schemes/oadp</td>\n",
       "    </tr>\n",
       "    <tr>\n",
       "      <th>901</th>\n",
       "      <td>NaN</td>\n",
       "      <td>NaN</td>\n",
       "      <td>NaN</td>\n",
       "      <td>NaN</td>\n",
       "      <td>NaN</td>\n",
       "      <td>NaN</td>\n",
       "      <td>NaN</td>\n",
       "      <td>NaN</td>\n",
       "      <td>https://www.myscheme.gov.in/schemes/yipb</td>\n",
       "    </tr>\n",
       "    <tr>\n",
       "      <th>902</th>\n",
       "      <td>NaN</td>\n",
       "      <td>NaN</td>\n",
       "      <td>NaN</td>\n",
       "      <td>NaN</td>\n",
       "      <td>NaN</td>\n",
       "      <td>NaN</td>\n",
       "      <td>NaN</td>\n",
       "      <td>NaN</td>\n",
       "      <td>https://www.myscheme.gov.in/schemes/dpps</td>\n",
       "    </tr>\n",
       "    <tr>\n",
       "      <th>903</th>\n",
       "      <td>NaN</td>\n",
       "      <td>NaN</td>\n",
       "      <td>NaN</td>\n",
       "      <td>NaN</td>\n",
       "      <td>NaN</td>\n",
       "      <td>NaN</td>\n",
       "      <td>NaN</td>\n",
       "      <td>NaN</td>\n",
       "      <td>https://www.myscheme.gov.in/schemes/naospasa-b...</td>\n",
       "    </tr>\n",
       "    <tr>\n",
       "      <th>904</th>\n",
       "      <td>NaN</td>\n",
       "      <td>NaN</td>\n",
       "      <td>NaN</td>\n",
       "      <td>NaN</td>\n",
       "      <td>NaN</td>\n",
       "      <td>NaN</td>\n",
       "      <td>NaN</td>\n",
       "      <td>NaN</td>\n",
       "      <td>https://www.myscheme.gov.in/schemes/serb-star</td>\n",
       "    </tr>\n",
       "    <tr>\n",
       "      <th>905</th>\n",
       "      <td>NaN</td>\n",
       "      <td>NaN</td>\n",
       "      <td>NaN</td>\n",
       "      <td>NaN</td>\n",
       "      <td>NaN</td>\n",
       "      <td>NaN</td>\n",
       "      <td>NaN</td>\n",
       "      <td>NaN</td>\n",
       "      <td>https://www.myscheme.gov.in/schemes/ds</td>\n",
       "    </tr>\n",
       "    <tr>\n",
       "      <th>906</th>\n",
       "      <td>NaN</td>\n",
       "      <td>NaN</td>\n",
       "      <td>NaN</td>\n",
       "      <td>NaN</td>\n",
       "      <td>NaN</td>\n",
       "      <td>NaN</td>\n",
       "      <td>NaN</td>\n",
       "      <td>NaN</td>\n",
       "      <td>https://www.myscheme.gov.in/schemes/stccbocwwb</td>\n",
       "    </tr>\n",
       "    <tr>\n",
       "      <th>907</th>\n",
       "      <td>NaN</td>\n",
       "      <td>NaN</td>\n",
       "      <td>NaN</td>\n",
       "      <td>NaN</td>\n",
       "      <td>NaN</td>\n",
       "      <td>NaN</td>\n",
       "      <td>NaN</td>\n",
       "      <td>NaN</td>\n",
       "      <td>https://www.myscheme.gov.in/schemes/rtftsccw</td>\n",
       "    </tr>\n",
       "    <tr>\n",
       "      <th>908</th>\n",
       "      <td>NaN</td>\n",
       "      <td>NaN</td>\n",
       "      <td>NaN</td>\n",
       "      <td>NaN</td>\n",
       "      <td>NaN</td>\n",
       "      <td>NaN</td>\n",
       "      <td>NaN</td>\n",
       "      <td>NaN</td>\n",
       "      <td>https://www.myscheme.gov.in/schemes/bpsaec</td>\n",
       "    </tr>\n",
       "    <tr>\n",
       "      <th>909</th>\n",
       "      <td>NaN</td>\n",
       "      <td>NaN</td>\n",
       "      <td>NaN</td>\n",
       "      <td>NaN</td>\n",
       "      <td>NaN</td>\n",
       "      <td>NaN</td>\n",
       "      <td>NaN</td>\n",
       "      <td>NaN</td>\n",
       "      <td>https://www.myscheme.gov.in/schemes/eacw</td>\n",
       "    </tr>\n",
       "  </tbody>\n",
       "</table>\n",
       "</div>"
      ],
      "text/plain": [
       "    Scheme Name Ministries/Departments/State Eligibility Details Tags  \\\n",
       "900         NaN                          NaN         NaN     NaN  NaN   \n",
       "901         NaN                          NaN         NaN     NaN  NaN   \n",
       "902         NaN                          NaN         NaN     NaN  NaN   \n",
       "903         NaN                          NaN         NaN     NaN  NaN   \n",
       "904         NaN                          NaN         NaN     NaN  NaN   \n",
       "905         NaN                          NaN         NaN     NaN  NaN   \n",
       "906         NaN                          NaN         NaN     NaN  NaN   \n",
       "907         NaN                          NaN         NaN     NaN  NaN   \n",
       "908         NaN                          NaN         NaN     NaN  NaN   \n",
       "909         NaN                          NaN         NaN     NaN  NaN   \n",
       "\n",
       "    Application Process Benefits Documents Required  \\\n",
       "900                 NaN      NaN                NaN   \n",
       "901                 NaN      NaN                NaN   \n",
       "902                 NaN      NaN                NaN   \n",
       "903                 NaN      NaN                NaN   \n",
       "904                 NaN      NaN                NaN   \n",
       "905                 NaN      NaN                NaN   \n",
       "906                 NaN      NaN                NaN   \n",
       "907                 NaN      NaN                NaN   \n",
       "908                 NaN      NaN                NaN   \n",
       "909                 NaN      NaN                NaN   \n",
       "\n",
       "                                            Source URL  \n",
       "900           https://www.myscheme.gov.in/schemes/oadp  \n",
       "901           https://www.myscheme.gov.in/schemes/yipb  \n",
       "902           https://www.myscheme.gov.in/schemes/dpps  \n",
       "903  https://www.myscheme.gov.in/schemes/naospasa-b...  \n",
       "904      https://www.myscheme.gov.in/schemes/serb-star  \n",
       "905             https://www.myscheme.gov.in/schemes/ds  \n",
       "906     https://www.myscheme.gov.in/schemes/stccbocwwb  \n",
       "907       https://www.myscheme.gov.in/schemes/rtftsccw  \n",
       "908         https://www.myscheme.gov.in/schemes/bpsaec  \n",
       "909           https://www.myscheme.gov.in/schemes/eacw  "
      ]
     },
     "execution_count": 308,
     "metadata": {},
     "output_type": "execute_result"
    }
   ],
   "source": [
    "df[df['Scheme Name'].isnull() == True]"
   ]
  },
  {
   "cell_type": "code",
   "execution_count": 309,
   "id": "63ebd553-a96b-4f88-8499-e5928d5ff575",
   "metadata": {},
   "outputs": [],
   "source": [
    "df.dropna(subset=['Scheme Name'], inplace=True)\n"
   ]
  },
  {
   "cell_type": "code",
   "execution_count": 310,
   "id": "49c7cfd3-07f3-49d9-8e13-ea2c63b95f51",
   "metadata": {},
   "outputs": [
    {
     "data": {
      "text/plain": [
       "Index(['Scheme Name', 'Ministries/Departments/State', 'Eligibility', 'Details',\n",
       "       'Tags', 'Application Process', 'Benefits', 'Documents Required',\n",
       "       'Source URL'],\n",
       "      dtype='object')"
      ]
     },
     "execution_count": 310,
     "metadata": {},
     "output_type": "execute_result"
    }
   ],
   "source": [
    "df.columns"
   ]
  },
  {
   "cell_type": "code",
   "execution_count": 311,
   "id": "1eb547a8-ec90-41b9-bcc7-4cc252d6ab29",
   "metadata": {},
   "outputs": [
    {
     "name": "stdout",
     "output_type": "stream",
     "text": [
      "<class 'pandas.core.frame.DataFrame'>\n",
      "Index: 3313 entries, 0 to 3322\n",
      "Data columns (total 9 columns):\n",
      " #   Column                        Non-Null Count  Dtype \n",
      "---  ------                        --------------  ----- \n",
      " 0   Scheme Name                   3313 non-null   object\n",
      " 1   Ministries/Departments/State  3313 non-null   object\n",
      " 2   Eligibility                   3313 non-null   object\n",
      " 3   Details                       3313 non-null   object\n",
      " 4   Tags                          3313 non-null   object\n",
      " 5   Application Process           3313 non-null   object\n",
      " 6   Benefits                      3313 non-null   object\n",
      " 7   Documents Required            3311 non-null   object\n",
      " 8   Source URL                    3313 non-null   object\n",
      "dtypes: object(9)\n",
      "memory usage: 258.8+ KB\n"
     ]
    }
   ],
   "source": [
    "df.info()"
   ]
  },
  {
   "cell_type": "code",
   "execution_count": null,
   "id": "1c4c6cc8-8902-438f-b9d2-58d47a2de340",
   "metadata": {},
   "outputs": [],
   "source": []
  },
  {
   "cell_type": "code",
   "execution_count": 312,
   "id": "5149f242-0ecd-448d-b9d3-b32a4d3eb74d",
   "metadata": {},
   "outputs": [
    {
     "data": {
      "text/plain": [
       "3313"
      ]
     },
     "execution_count": 312,
     "metadata": {},
     "output_type": "execute_result"
    }
   ],
   "source": [
    "df['Scheme Name'].nunique()"
   ]
  },
  {
   "cell_type": "code",
   "execution_count": 313,
   "id": "dbad20ad-7064-42c7-8278-aa048541b12c",
   "metadata": {},
   "outputs": [
    {
     "data": {
      "text/plain": [
       "3282                 Maternity Benefits Scheme (BBOCWWB)\n",
       "861     AGR 4 (Farm Mechanization) Scheme For SC Farmers\n",
       "731                       Shramik Auzaar Sahayata Yojana\n",
       "Name: Scheme Name, dtype: object"
      ]
     },
     "execution_count": 313,
     "metadata": {},
     "output_type": "execute_result"
    }
   ],
   "source": [
    "df['Scheme Name'].sample(3)"
   ]
  },
  {
   "cell_type": "code",
   "execution_count": 314,
   "id": "f7fe6edd-d4cf-4063-bbad-d18f3541085a",
   "metadata": {},
   "outputs": [],
   "source": [
    "# Ministries/Departments/State"
   ]
  },
  {
   "cell_type": "code",
   "execution_count": 315,
   "id": "de69eadc-8568-4da1-a6d6-c6dbe2dc7bc6",
   "metadata": {},
   "outputs": [
    {
     "data": {
      "text/plain": [
       "\"{'State': '', 'Department': ''}\""
      ]
     },
     "execution_count": 315,
     "metadata": {},
     "output_type": "execute_result"
    }
   ],
   "source": [
    "df['Ministries/Departments/State'].iloc[1]"
   ]
  },
  {
   "cell_type": "code",
   "execution_count": 316,
   "id": "314829a3-f1a9-4fad-98c2-17f13de781a6",
   "metadata": {},
   "outputs": [],
   "source": [
    "df['Ministries/Departments/State'] = df['Ministries/Departments/State'].apply(lambda x: ast.literal_eval(x) if isinstance(x, str) else x)\n",
    "\n",
    "df['Ministries/Departments'] = df['Ministries/Departments/State'].apply(lambda x: x.get('Department'))\n",
    "df['Target_Beneficiaries']   = df['Ministries/Departments/State'].apply(lambda x: x.get('State'))\n"
   ]
  },
  {
   "cell_type": "code",
   "execution_count": 317,
   "id": "c318a26d-f25d-49d2-bd20-49a7d4e8e5c4",
   "metadata": {},
   "outputs": [
    {
     "data": {
      "text/plain": [
       "Target_Beneficiaries\n",
       "                                        533\n",
       "Gujarat                                 269\n",
       "Tamil Nadu                              235\n",
       "Puducherry                              224\n",
       "Haryana                                 187\n",
       "Madhya Pradesh                          183\n",
       "Goa                                     149\n",
       "Rajasthan                               123\n",
       "West Bengal                             106\n",
       "Bihar                                   102\n",
       "Jharkhand                                94\n",
       "Chhattisgarh                             89\n",
       "Maharashtra                              84\n",
       "Odisha                                   72\n",
       "Kerala                                   72\n",
       "Andhra Pradesh                           66\n",
       "Himachal Pradesh                         66\n",
       "Meghalaya                                63\n",
       "Karnataka                                62\n",
       "Dadra & Nagar Haveli and Daman & Diu     49\n",
       "Delhi                                    48\n",
       "Assam                                    47\n",
       "Uttar Pradesh                            45\n",
       "Jammu and Kashmir                        44\n",
       "Tripura                                  40\n",
       "Punjab                                   36\n",
       "Arunachal Pradesh                        35\n",
       "Uttarakhand                              32\n",
       "Telangana                                27\n",
       "Manipur                                  27\n",
       "Sikkim                                   20\n",
       "Nagaland                                 20\n",
       "Chandigarh                               19\n",
       "Andaman and Nicobar Islands              18\n",
       "Mizoram                                  14\n",
       "Lakshadweep                               9\n",
       "Ladakh                                    4\n",
       "Name: count, dtype: int64"
      ]
     },
     "execution_count": 317,
     "metadata": {},
     "output_type": "execute_result"
    }
   ],
   "source": [
    "df['Target_Beneficiaries'].value_counts()"
   ]
  },
  {
   "cell_type": "code",
   "execution_count": 318,
   "id": "9349afd0-1626-4815-b80f-444c6fee0355",
   "metadata": {},
   "outputs": [],
   "source": [
    "df['Target_Beneficiaries'] = df['Target_Beneficiaries'].astype(str)\n",
    "\n",
    "mask = df['Target_Beneficiaries'].str.strip() == ''\n",
    "\n",
    "df.loc[mask, 'Target_Beneficiaries'] = 'All States'\n"
   ]
  },
  {
   "cell_type": "code",
   "execution_count": 319,
   "id": "9541f7b7-f33f-4c33-a621-2aa5538aba10",
   "metadata": {},
   "outputs": [
    {
     "data": {
      "text/plain": [
       "Ministries/Departments\n",
       "Labour Department                                         247\n",
       "                                                          197\n",
       "Agriculture Department                                    127\n",
       "Social Welfare Department                                 117\n",
       "Industries and Mines Department                           104\n",
       "                                                         ... \n",
       "Mizoram Scholarship Board                                   1\n",
       "Health, Medical & Family Welfare Department                 1\n",
       "Other Backward Classes and Scheduled Castes Department      1\n",
       "Administrative Reforms and Training Department              1\n",
       "Department of Human Resource and Development                1\n",
       "Name: count, Length: 318, dtype: int64"
      ]
     },
     "execution_count": 319,
     "metadata": {},
     "output_type": "execute_result"
    }
   ],
   "source": [
    "df['Ministries/Departments'].value_counts()"
   ]
  },
  {
   "cell_type": "code",
   "execution_count": 320,
   "id": "c721cdc0-a8c9-4d6f-8272-391f2b83e199",
   "metadata": {},
   "outputs": [],
   "source": [
    "df['Ministries/Departments'] = df['Ministries/Departments'].astype(str)\n",
    "\n",
    "mask = df['Ministries/Departments'].str.strip() == ''\n",
    "\n",
    "df.loc[mask, 'Ministries/Departments'] = np.nan"
   ]
  },
  {
   "cell_type": "code",
   "execution_count": 321,
   "id": "a8279f3b-2a14-416c-86d6-5c3ae8ecd569",
   "metadata": {},
   "outputs": [
    {
     "name": "stdout",
     "output_type": "stream",
     "text": [
      "<class 'pandas.core.frame.DataFrame'>\n",
      "Index: 3313 entries, 0 to 3322\n",
      "Data columns (total 11 columns):\n",
      " #   Column                        Non-Null Count  Dtype \n",
      "---  ------                        --------------  ----- \n",
      " 0   Scheme Name                   3313 non-null   object\n",
      " 1   Ministries/Departments/State  3313 non-null   object\n",
      " 2   Eligibility                   3313 non-null   object\n",
      " 3   Details                       3313 non-null   object\n",
      " 4   Tags                          3313 non-null   object\n",
      " 5   Application Process           3313 non-null   object\n",
      " 6   Benefits                      3313 non-null   object\n",
      " 7   Documents Required            3311 non-null   object\n",
      " 8   Source URL                    3313 non-null   object\n",
      " 9   Ministries/Departments        3116 non-null   object\n",
      " 10  Target_Beneficiaries          3313 non-null   object\n",
      "dtypes: object(11)\n",
      "memory usage: 310.6+ KB\n"
     ]
    }
   ],
   "source": [
    "df.info()"
   ]
  },
  {
   "cell_type": "code",
   "execution_count": 322,
   "id": "5ad7d337-3ec0-437e-bb68-d0493f150b49",
   "metadata": {},
   "outputs": [],
   "source": [
    "df = df.drop(columns=['Ministries/Departments/State'])"
   ]
  },
  {
   "cell_type": "code",
   "execution_count": 323,
   "id": "f24c5104-9ce0-4473-a9b4-a58ff5cfb6e2",
   "metadata": {},
   "outputs": [
    {
     "data": {
      "text/html": [
       "<div>\n",
       "<style scoped>\n",
       "    .dataframe tbody tr th:only-of-type {\n",
       "        vertical-align: middle;\n",
       "    }\n",
       "\n",
       "    .dataframe tbody tr th {\n",
       "        vertical-align: top;\n",
       "    }\n",
       "\n",
       "    .dataframe thead th {\n",
       "        text-align: right;\n",
       "    }\n",
       "</style>\n",
       "<table border=\"1\" class=\"dataframe\">\n",
       "  <thead>\n",
       "    <tr style=\"text-align: right;\">\n",
       "      <th></th>\n",
       "      <th>Scheme Name</th>\n",
       "      <th>Eligibility</th>\n",
       "      <th>Details</th>\n",
       "      <th>Tags</th>\n",
       "      <th>Application Process</th>\n",
       "      <th>Benefits</th>\n",
       "      <th>Documents Required</th>\n",
       "      <th>Source URL</th>\n",
       "      <th>Ministries/Departments</th>\n",
       "      <th>Target_Beneficiaries</th>\n",
       "    </tr>\n",
       "  </thead>\n",
       "  <tbody>\n",
       "    <tr>\n",
       "      <th>1</th>\n",
       "      <td>ICMR- Post Doctoral Fellowship</td>\n",
       "      <td>\\n1. ICMR-PDF is open to Indian nationals only...</td>\n",
       "      <td>ICMR- Post Doctoral Fellowship (ICMR-PDF) Sche...</td>\n",
       "      <td>['Fellowship', 'ICMR', 'PDF', 'Post Doctoral',...</td>\n",
       "      <td>[['Last Date of Application (30th June and 31s...</td>\n",
       "      <td>ICMR-PDFs will be paid a consolidated fellowsh...</td>\n",
       "      <td>1.\\tPassport-size Photograph\\n2.\\tAttested cop...</td>\n",
       "      <td>https://www.myscheme.gov.in/schemes/icmr-pdf</td>\n",
       "      <td>NaN</td>\n",
       "      <td>All States</td>\n",
       "    </tr>\n",
       "    <tr>\n",
       "      <th>20</th>\n",
       "      <td>Coaching Schemes For Sc/st/obc (non-creamy Lay...</td>\n",
       "      <td>\\n- Financial assistance under the scheme is a...</td>\n",
       "      <td>Coaching schemes for students belonging to SC ...</td>\n",
       "      <td>['Coaching', 'Other Backward Classes', 'Schedu...</td>\n",
       "      <td>[['Step 01: The applicant needs to contact the...</td>\n",
       "      <td>The institutions can apply for one or more com...</td>\n",
       "      <td>Aadhaar card\\nCaste/Community Certificate:\\nAc...</td>\n",
       "      <td>https://www.myscheme.gov.in/schemes/csmsu</td>\n",
       "      <td>NaN</td>\n",
       "      <td>All States</td>\n",
       "    </tr>\n",
       "    <tr>\n",
       "      <th>41</th>\n",
       "      <td>Production Linked Incentive Scheme For Automob...</td>\n",
       "      <td>The applicant company or its Group company(ies...</td>\n",
       "      <td>The government of India has approved the schem...</td>\n",
       "      <td>['Auto Component', 'Automobile', 'Automotive',...</td>\n",
       "      <td>[['The window for receiving applications throu...</td>\n",
       "      <td>The approved applicants will be entitled to re...</td>\n",
       "      <td>1. Certificate of Incorporation (Issued by ROC...</td>\n",
       "      <td>https://www.myscheme.gov.in/schemes/plisaaci</td>\n",
       "      <td>NaN</td>\n",
       "      <td>All States</td>\n",
       "    </tr>\n",
       "    <tr>\n",
       "      <th>54</th>\n",
       "      <td>Atal Mission For Rejuvenation And Urban Transf...</td>\n",
       "      <td>This is an open scheme and there is no eligibi...</td>\n",
       "      <td>The purpose of the Atal Mission for Rejuvenati...</td>\n",
       "      <td>['Basic Services', 'Drainage', 'Green Space', ...</td>\n",
       "      <td>[['The applicant need not apply for the scheme...</td>\n",
       "      <td>The components of the AMRUT consist of capacit...</td>\n",
       "      <td>There are no documents required for the scheme.</td>\n",
       "      <td>https://www.myscheme.gov.in/schemes/amrut</td>\n",
       "      <td>NaN</td>\n",
       "      <td>All States</td>\n",
       "    </tr>\n",
       "    <tr>\n",
       "      <th>70</th>\n",
       "      <td>Atal Beemit Vyakti Kalyan Yojana</td>\n",
       "      <td>\\n   1. The Insured Person (IP) should have be...</td>\n",
       "      <td>The scheme “Atal Beemit Vyakti Kalyan Yojana (...</td>\n",
       "      <td>['Atal', 'Employee', 'Insurance', 'Insured Per...</td>\n",
       "      <td>[[\"Application Process: Step 01: To submit an ...</td>\n",
       "      <td>The scheme provides relief to the extent of 50...</td>\n",
       "      <td>1.\\tAadhaar card\\n2.\\tBank passbook/cancelled ...</td>\n",
       "      <td>https://www.myscheme.gov.in/schemes/abvky</td>\n",
       "      <td>NaN</td>\n",
       "      <td>All States</td>\n",
       "    </tr>\n",
       "    <tr>\n",
       "      <th>...</th>\n",
       "      <td>...</td>\n",
       "      <td>...</td>\n",
       "      <td>...</td>\n",
       "      <td>...</td>\n",
       "      <td>...</td>\n",
       "      <td>...</td>\n",
       "      <td>...</td>\n",
       "      <td>...</td>\n",
       "      <td>...</td>\n",
       "      <td>...</td>\n",
       "    </tr>\n",
       "    <tr>\n",
       "      <th>3118</th>\n",
       "      <td>Rashtriya Gram Swaraj Abhiyan - Internship Pro...</td>\n",
       "      <td>\\n   1. The applicants i.e., ‘Students’ are en...</td>\n",
       "      <td>For Implementation of Centrally Sponsored Sche...</td>\n",
       "      <td>['Internship', 'Research Scolars', 'Students']</td>\n",
       "      <td>[['The candidates needs to register himself on...</td>\n",
       "      <td>The selected candidates will receive a certifi...</td>\n",
       "      <td>At the time of joining on selection, the appli...</td>\n",
       "      <td>https://www.myscheme.gov.in/schemes/rgsaip</td>\n",
       "      <td>NaN</td>\n",
       "      <td>All States</td>\n",
       "    </tr>\n",
       "    <tr>\n",
       "      <th>3210</th>\n",
       "      <td>Group Personal Accident Insurance Scheme For C...</td>\n",
       "      <td>\\n1. The applicant must be EITHER a disabled c...</td>\n",
       "      <td>A group insurance scheme by MoMSME for coir wo...</td>\n",
       "      <td>['Financial Assistance', 'Insurance', 'Person ...</td>\n",
       "      <td>[['Submission of Claim - To apply for a claim ...</td>\n",
       "      <td>For death due to accident –\\nRs.50,000.\\nFor p...</td>\n",
       "      <td>In case of Accidental Death:\\nCopy of Death ce...</td>\n",
       "      <td>https://www.myscheme.gov.in/schemes/gpaiscw</td>\n",
       "      <td>NaN</td>\n",
       "      <td>All States</td>\n",
       "    </tr>\n",
       "    <tr>\n",
       "      <th>3292</th>\n",
       "      <td>Prime Minister’s Internship Scheme</td>\n",
       "      <td>\\n   1. The candidate belongs to Indian nation...</td>\n",
       "      <td>The scheme “Prime Minister’s Internship Scheme...</td>\n",
       "      <td>['Employment Opportunities', 'Internship', 'Mo...</td>\n",
       "      <td>[['Registration Process: Step 1: Visit the off...</td>\n",
       "      <td>12 months real-life experience in India's top ...</td>\n",
       "      <td>Aadhaar Card\\nEducational Certificates\\nProof ...</td>\n",
       "      <td>https://www.myscheme.gov.in/schemes/pmis</td>\n",
       "      <td>NaN</td>\n",
       "      <td>All States</td>\n",
       "    </tr>\n",
       "    <tr>\n",
       "      <th>3307</th>\n",
       "      <td>Financial Support To The Students Of N.E.R For...</td>\n",
       "      <td>\\n1. The applicant must be a permanent residen...</td>\n",
       "      <td>A scholarship scheme by the North Eastern Coun...</td>\n",
       "      <td>['Scholarship', 'Student']</td>\n",
       "      <td>[['The applicants are required to fill up the ...</td>\n",
       "      <td>Rates of Scholarships\\n(₹ per annum) for fresh...</td>\n",
       "      <td>Permanent Residential Certificate (PRC) issued...</td>\n",
       "      <td>https://www.myscheme.gov.in/schemes/necms</td>\n",
       "      <td>NaN</td>\n",
       "      <td>All States</td>\n",
       "    </tr>\n",
       "    <tr>\n",
       "      <th>3313</th>\n",
       "      <td>Central Assistance For One Time Settlement Of ...</td>\n",
       "      <td>\\n1. The Claimant/Head of the Displaced Person...</td>\n",
       "      <td>A relief and rehabilitation scheme by the Mini...</td>\n",
       "      <td>['Business', 'Displaced', 'Family', 'Farming',...</td>\n",
       "      <td>[['For identification of the beneficiaries, th...</td>\n",
       "      <td>One-Time full and final settlement of Rs. 2,00...</td>\n",
       "      <td>Aadhaar\\nProof of having resided either in PoK...</td>\n",
       "      <td>https://www.myscheme.gov.in/schemes/otsdfpc</td>\n",
       "      <td>NaN</td>\n",
       "      <td>All States</td>\n",
       "    </tr>\n",
       "  </tbody>\n",
       "</table>\n",
       "<p>197 rows × 10 columns</p>\n",
       "</div>"
      ],
      "text/plain": [
       "                                            Scheme Name  \\\n",
       "1                       ICMR- Post Doctoral Fellowship    \n",
       "20    Coaching Schemes For Sc/st/obc (non-creamy Lay...   \n",
       "41    Production Linked Incentive Scheme For Automob...   \n",
       "54    Atal Mission For Rejuvenation And Urban Transf...   \n",
       "70                     Atal Beemit Vyakti Kalyan Yojana   \n",
       "...                                                 ...   \n",
       "3118  Rashtriya Gram Swaraj Abhiyan - Internship Pro...   \n",
       "3210  Group Personal Accident Insurance Scheme For C...   \n",
       "3292                 Prime Minister’s Internship Scheme   \n",
       "3307  Financial Support To The Students Of N.E.R For...   \n",
       "3313  Central Assistance For One Time Settlement Of ...   \n",
       "\n",
       "                                            Eligibility  \\\n",
       "1     \\n1. ICMR-PDF is open to Indian nationals only...   \n",
       "20    \\n- Financial assistance under the scheme is a...   \n",
       "41    The applicant company or its Group company(ies...   \n",
       "54    This is an open scheme and there is no eligibi...   \n",
       "70    \\n   1. The Insured Person (IP) should have be...   \n",
       "...                                                 ...   \n",
       "3118  \\n   1. The applicants i.e., ‘Students’ are en...   \n",
       "3210  \\n1. The applicant must be EITHER a disabled c...   \n",
       "3292  \\n   1. The candidate belongs to Indian nation...   \n",
       "3307  \\n1. The applicant must be a permanent residen...   \n",
       "3313  \\n1. The Claimant/Head of the Displaced Person...   \n",
       "\n",
       "                                                Details  \\\n",
       "1     ICMR- Post Doctoral Fellowship (ICMR-PDF) Sche...   \n",
       "20    Coaching schemes for students belonging to SC ...   \n",
       "41    The government of India has approved the schem...   \n",
       "54    The purpose of the Atal Mission for Rejuvenati...   \n",
       "70    The scheme “Atal Beemit Vyakti Kalyan Yojana (...   \n",
       "...                                                 ...   \n",
       "3118  For Implementation of Centrally Sponsored Sche...   \n",
       "3210  A group insurance scheme by MoMSME for coir wo...   \n",
       "3292  The scheme “Prime Minister’s Internship Scheme...   \n",
       "3307  A scholarship scheme by the North Eastern Coun...   \n",
       "3313  A relief and rehabilitation scheme by the Mini...   \n",
       "\n",
       "                                                   Tags  \\\n",
       "1     ['Fellowship', 'ICMR', 'PDF', 'Post Doctoral',...   \n",
       "20    ['Coaching', 'Other Backward Classes', 'Schedu...   \n",
       "41    ['Auto Component', 'Automobile', 'Automotive',...   \n",
       "54    ['Basic Services', 'Drainage', 'Green Space', ...   \n",
       "70    ['Atal', 'Employee', 'Insurance', 'Insured Per...   \n",
       "...                                                 ...   \n",
       "3118     ['Internship', 'Research Scolars', 'Students']   \n",
       "3210  ['Financial Assistance', 'Insurance', 'Person ...   \n",
       "3292  ['Employment Opportunities', 'Internship', 'Mo...   \n",
       "3307                         ['Scholarship', 'Student']   \n",
       "3313  ['Business', 'Displaced', 'Family', 'Farming',...   \n",
       "\n",
       "                                    Application Process  \\\n",
       "1     [['Last Date of Application (30th June and 31s...   \n",
       "20    [['Step 01: The applicant needs to contact the...   \n",
       "41    [['The window for receiving applications throu...   \n",
       "54    [['The applicant need not apply for the scheme...   \n",
       "70    [[\"Application Process: Step 01: To submit an ...   \n",
       "...                                                 ...   \n",
       "3118  [['The candidates needs to register himself on...   \n",
       "3210  [['Submission of Claim - To apply for a claim ...   \n",
       "3292  [['Registration Process: Step 1: Visit the off...   \n",
       "3307  [['The applicants are required to fill up the ...   \n",
       "3313  [['For identification of the beneficiaries, th...   \n",
       "\n",
       "                                               Benefits  \\\n",
       "1     ICMR-PDFs will be paid a consolidated fellowsh...   \n",
       "20    The institutions can apply for one or more com...   \n",
       "41    The approved applicants will be entitled to re...   \n",
       "54    The components of the AMRUT consist of capacit...   \n",
       "70    The scheme provides relief to the extent of 50...   \n",
       "...                                                 ...   \n",
       "3118  The selected candidates will receive a certifi...   \n",
       "3210  For death due to accident –\\nRs.50,000.\\nFor p...   \n",
       "3292  12 months real-life experience in India's top ...   \n",
       "3307  Rates of Scholarships\\n(₹ per annum) for fresh...   \n",
       "3313  One-Time full and final settlement of Rs. 2,00...   \n",
       "\n",
       "                                     Documents Required  \\\n",
       "1     1.\\tPassport-size Photograph\\n2.\\tAttested cop...   \n",
       "20    Aadhaar card\\nCaste/Community Certificate:\\nAc...   \n",
       "41    1. Certificate of Incorporation (Issued by ROC...   \n",
       "54      There are no documents required for the scheme.   \n",
       "70    1.\\tAadhaar card\\n2.\\tBank passbook/cancelled ...   \n",
       "...                                                 ...   \n",
       "3118  At the time of joining on selection, the appli...   \n",
       "3210  In case of Accidental Death:\\nCopy of Death ce...   \n",
       "3292  Aadhaar Card\\nEducational Certificates\\nProof ...   \n",
       "3307  Permanent Residential Certificate (PRC) issued...   \n",
       "3313  Aadhaar\\nProof of having resided either in PoK...   \n",
       "\n",
       "                                        Source URL Ministries/Departments  \\\n",
       "1     https://www.myscheme.gov.in/schemes/icmr-pdf                    NaN   \n",
       "20       https://www.myscheme.gov.in/schemes/csmsu                    NaN   \n",
       "41    https://www.myscheme.gov.in/schemes/plisaaci                    NaN   \n",
       "54       https://www.myscheme.gov.in/schemes/amrut                    NaN   \n",
       "70       https://www.myscheme.gov.in/schemes/abvky                    NaN   \n",
       "...                                            ...                    ...   \n",
       "3118    https://www.myscheme.gov.in/schemes/rgsaip                    NaN   \n",
       "3210   https://www.myscheme.gov.in/schemes/gpaiscw                    NaN   \n",
       "3292      https://www.myscheme.gov.in/schemes/pmis                    NaN   \n",
       "3307     https://www.myscheme.gov.in/schemes/necms                    NaN   \n",
       "3313   https://www.myscheme.gov.in/schemes/otsdfpc                    NaN   \n",
       "\n",
       "     Target_Beneficiaries  \n",
       "1              All States  \n",
       "20             All States  \n",
       "41             All States  \n",
       "54             All States  \n",
       "70             All States  \n",
       "...                   ...  \n",
       "3118           All States  \n",
       "3210           All States  \n",
       "3292           All States  \n",
       "3307           All States  \n",
       "3313           All States  \n",
       "\n",
       "[197 rows x 10 columns]"
      ]
     },
     "execution_count": 323,
     "metadata": {},
     "output_type": "execute_result"
    }
   ],
   "source": [
    "df[df['Ministries/Departments'].isna() == True]"
   ]
  },
  {
   "cell_type": "code",
   "execution_count": 324,
   "id": "27181ebe-7fff-4409-b031-9a3ce867160d",
   "metadata": {},
   "outputs": [],
   "source": [
    "df['Ministries/Departments'] = df['Ministries/Departments'].fillna(\"unknown\")"
   ]
  },
  {
   "cell_type": "code",
   "execution_count": 325,
   "id": "db6378f3-cceb-4745-adc2-634b1d9c2fb9",
   "metadata": {},
   "outputs": [],
   "source": [
    "# Eligibility"
   ]
  },
  {
   "cell_type": "code",
   "execution_count": 326,
   "id": "abefa893-3f42-4243-9a6b-552ad9a365c0",
   "metadata": {},
   "outputs": [
    {
     "data": {
      "text/plain": [
       "239     > **For the Nominee**\\n\\nA.  The award shall b...\n",
       "474     > **For Registration as a Building/ Constructi...\n",
       "2339    \\n- The applicant should be the Widow of an [E...\n",
       "Name: Eligibility, dtype: object"
      ]
     },
     "execution_count": 326,
     "metadata": {},
     "output_type": "execute_result"
    }
   ],
   "source": [
    "df['Eligibility'].sample(3)"
   ]
  },
  {
   "cell_type": "code",
   "execution_count": 327,
   "id": "54fa3379-1d79-4be9-bf40-1eae60afbc0e",
   "metadata": {},
   "outputs": [
    {
     "data": {
      "text/plain": [
       "'\\n   1. All students of Punjab having 40 % and above disability (In any disability contained in the schedule of RPwD Act 2016) certificate.\\n   1. The monthly income of family/guardians should not exceed ₹5,000/- per month.\\n   1. The candidate should have secured at least 40% marks in the previous annual examination.\\n   1. The scholarship will be provided to each student with disability from 1st class onwards.\\n\\n'"
      ]
     },
     "execution_count": 327,
     "metadata": {},
     "output_type": "execute_result"
    }
   ],
   "source": [
    "df['Eligibility'].iloc[38]"
   ]
  },
  {
   "cell_type": "code",
   "execution_count": 328,
   "id": "7e8fe3d9-c6fa-4556-a3b5-11194093e22c",
   "metadata": {},
   "outputs": [
    {
     "data": {
      "text/plain": [
       "'\\n1. Applicant must be an unorganized female worker.\\n1. Applicant registered in any district of the Chhattisgarh state.\\n1. Applicant must be between the ages of 18 and 40.\\n1. Applicant must not be receiving benefits under any other parallel scheme of the State Government for the same purpose.\\n\\n'"
      ]
     },
     "execution_count": 328,
     "metadata": {},
     "output_type": "execute_result"
    }
   ],
   "source": [
    "df['Eligibility'].iloc[80]"
   ]
  },
  {
   "cell_type": "code",
   "execution_count": 329,
   "id": "a61428b9-47ee-43a4-8bed-df37c650d0d6",
   "metadata": {},
   "outputs": [],
   "source": [
    "def parse_eligibility(text: str) -> list[str]:\n",
    "    items = []\n",
    "    for line in text.splitlines():                         \n",
    "        line = line.strip()\n",
    "        if not line:\n",
    "            continue\n",
    "\n",
    "        # 1. If line starts with a bullet (e.g., \"1. ...\"), start a new item\n",
    "        m = re.match(r'^(\\d+)\\.\\s*(.*)', line)              \n",
    "        if m:\n",
    "            items.append(m.group(2))\n",
    "        else:\n",
    "            # 2. Otherwise, treat it as continuation of the last item\n",
    "            if items:\n",
    "                items[-1] += ' ' + line\n",
    "            else:\n",
    "                items.append(line)\n",
    "\n",
    "    # 3. Clean up whitespace and drop any \"Note\" entries\n",
    "    cleaned = [\n",
    "        re.sub(r'\\s+', ' ', itm).strip(' *:.') \n",
    "        for itm in items \n",
    "        if not re.match(r'(?i)note', itm)                   \n",
    "    ]\n",
    "    return cleaned\n",
    "\n",
    "df['Eligibility'] = df['Eligibility'].apply(parse_eligibility)"
   ]
  },
  {
   "cell_type": "code",
   "execution_count": 330,
   "id": "89a1b7b9-28b2-47b6-869e-caae56041e25",
   "metadata": {},
   "outputs": [
    {
     "data": {
      "text/plain": [
       "['All students of Punjab having 40 % and above disability (In any disability contained in the schedule of RPwD Act 2016) certificate',\n",
       " 'The monthly income of family/guardians should not exceed ₹5,000/- per month',\n",
       " 'The candidate should have secured at least 40% marks in the previous annual examination',\n",
       " 'The scholarship will be provided to each student with disability from 1st class onwards']"
      ]
     },
     "execution_count": 330,
     "metadata": {},
     "output_type": "execute_result"
    }
   ],
   "source": [
    "df['Eligibility'].iloc[38]"
   ]
  },
  {
   "cell_type": "code",
   "execution_count": 331,
   "id": "e6c22c9e-7c1e-470c-a981-3efb9748a4c4",
   "metadata": {},
   "outputs": [
    {
     "data": {
      "text/plain": [
       "Index(['Scheme Name', 'Eligibility', 'Details', 'Tags', 'Application Process',\n",
       "       'Benefits', 'Documents Required', 'Source URL',\n",
       "       'Ministries/Departments', 'Target_Beneficiaries'],\n",
       "      dtype='object')"
      ]
     },
     "execution_count": 331,
     "metadata": {},
     "output_type": "execute_result"
    }
   ],
   "source": [
    "df.columns"
   ]
  },
  {
   "cell_type": "code",
   "execution_count": 332,
   "id": "8fb08209-89b5-4c18-8cc6-1c6efdafd1db",
   "metadata": {},
   "outputs": [],
   "source": [
    "# Details"
   ]
  },
  {
   "cell_type": "code",
   "execution_count": 333,
   "id": "a91409f6-1ea6-4b5a-9134-f6650cc5d2c0",
   "metadata": {},
   "outputs": [
    {
     "data": {
      "text/plain": [
       "2412    The scheme &amp;quot;Ex-Gratia Grant for Disab...\n",
       "770     The scheme “Matribhasha Satyagrahi Pension Sch...\n",
       "311     The &#39;Establishing Aavin Parlour for Differ...\n",
       "855     Homestays: Provision of affordable accommodati...\n",
       "Name: Details, dtype: object"
      ]
     },
     "execution_count": 333,
     "metadata": {},
     "output_type": "execute_result"
    }
   ],
   "source": [
    "df['Details'].sample(4)"
   ]
  },
  {
   "cell_type": "code",
   "execution_count": 334,
   "id": "85d253df-061c-4093-9671-7687c2e92c71",
   "metadata": {},
   "outputs": [
    {
     "data": {
      "text/plain": [
       "'Labor Department of Chhattisgarh State started this scheme &amp;amp;quot;Safai Karmakar Hetu Aavashyak Upakaran Sahayata Yojana&amp;amp;quot; for unorganized worker on 02 September 2015. The main objective of the scheme to empower unorganized worker by providing required equipment for their work. \\n'"
      ]
     },
     "execution_count": 334,
     "metadata": {},
     "output_type": "execute_result"
    }
   ],
   "source": [
    "df['Details'].iloc[53]"
   ]
  },
  {
   "cell_type": "code",
   "execution_count": 335,
   "id": "f2cf8097-4ab8-4fee-9f43-51b369fc4456",
   "metadata": {},
   "outputs": [
    {
     "data": {
      "text/plain": [
       "'A scholarship scheme by DoEPwDs for Students with Disabilities (SwDs) studying in class 9th and class 10th in a government school or a school recognized by the government or CBSE or State Board.\\n<br>\\n\\nThe students with the specified disabilities defined in Schedule of the &quot;Rights of Persons with Disabilities Act, 2016&quot; will be eligible under this scheme. This includes persons with visual, hearing, speech, loco-motor, mental retardation, and other disabilities. NOS is implemented offline by the DEPwD.\\n<br>\\n\\nAt times SwDs are deprived of harnessing their latent skills and thereby miss the opportunity. This scheme aims to support SwDs to study further in order to prepare themselves to earn their livelihood and to find a dignified place for themselves in the society as they face several barriers physical, financial, psychological, mental in pursuing studies and living with dignity.\\n'"
      ]
     },
     "execution_count": 335,
     "metadata": {},
     "output_type": "execute_result"
    }
   ],
   "source": [
    "df['Details'].iloc[89]"
   ]
  },
  {
   "cell_type": "code",
   "execution_count": 336,
   "id": "1b7d8e18-cb1f-417e-9472-210384b45bbb",
   "metadata": {},
   "outputs": [
    {
     "data": {
      "text/plain": [
       "'The &quot;Employment Incentive&quot; is a Component of the &quot;Motivation of Entrepreneurs to Start Industries and Fiscal Assistance to Industries&quot; Scheme by the Industries and Commerce Department, Union Territory of Puducherry. Through this scheme, a Wage/Employment subsidy of 20% of wage/ salary up to a maximum of ₹5,00,000/- per annum is provided in the case of workers who are covered under the Provident Fund (PF). The new units which commence production on or after 2-8-2004 would alone be eligible for this incentive for 5 years from the date of commencement of production. The applications are accepted offline in the prescribed form available on the Official Website of the Department.\\n'"
      ]
     },
     "execution_count": 336,
     "metadata": {},
     "output_type": "execute_result"
    }
   ],
   "source": [
    "df['Details'].iloc[256]"
   ]
  },
  {
   "cell_type": "code",
   "execution_count": 337,
   "id": "58b39364-f63a-4e64-a286-9cdf69779666",
   "metadata": {},
   "outputs": [],
   "source": [
    "def clean_details(text: str) -> str:\n",
    "    # 1. Decode HTML entities\n",
    "    txt = html.unescape(text)  \n",
    "    \n",
    "    # 2. Remove any HTML tags\n",
    "    txt = re.sub(r'<.*?>', '', txt)  \n",
    "\n",
    "    # 3. Collapse line breaks into spaces\n",
    "    txt = re.sub(r'[\\r\\n]+', ' ', txt)\n",
    "    \n",
    "    # 4. Collapse multiple spaces and trim\n",
    "    txt = re.sub(r'\\s+', ' ', txt).strip()\n",
    "\n",
    "    return txt\n",
    "\n",
    "\n",
    "df['Details'] = df['Details'].apply(clean_details)\n"
   ]
  },
  {
   "cell_type": "code",
   "execution_count": 338,
   "id": "8ad76e47-6ed7-43c1-a26d-dd0f5add28a6",
   "metadata": {},
   "outputs": [
    {
     "data": {
      "text/plain": [
       "'The \"Employment Incentive\" is a Component of the \"Motivation of Entrepreneurs to Start Industries and Fiscal Assistance to Industries\" Scheme by the Industries and Commerce Department, Union Territory of Puducherry. Through this scheme, a Wage/Employment subsidy of 20% of wage/ salary up to a maximum of ₹5,00,000/- per annum is provided in the case of workers who are covered under the Provident Fund (PF). The new units which commence production on or after 2-8-2004 would alone be eligible for this incentive for 5 years from the date of commencement of production. The applications are accepted offline in the prescribed form available on the Official Website of the Department.'"
      ]
     },
     "execution_count": 338,
     "metadata": {},
     "output_type": "execute_result"
    }
   ],
   "source": [
    "df['Details'].iloc[256]"
   ]
  },
  {
   "cell_type": "code",
   "execution_count": 339,
   "id": "60232c27-196d-431f-902a-e8753de724c9",
   "metadata": {},
   "outputs": [
    {
     "data": {
      "text/html": [
       "<div>\n",
       "<style scoped>\n",
       "    .dataframe tbody tr th:only-of-type {\n",
       "        vertical-align: middle;\n",
       "    }\n",
       "\n",
       "    .dataframe tbody tr th {\n",
       "        vertical-align: top;\n",
       "    }\n",
       "\n",
       "    .dataframe thead th {\n",
       "        text-align: right;\n",
       "    }\n",
       "</style>\n",
       "<table border=\"1\" class=\"dataframe\">\n",
       "  <thead>\n",
       "    <tr style=\"text-align: right;\">\n",
       "      <th></th>\n",
       "      <th>Scheme Name</th>\n",
       "      <th>Eligibility</th>\n",
       "      <th>Details</th>\n",
       "      <th>Tags</th>\n",
       "      <th>Application Process</th>\n",
       "      <th>Benefits</th>\n",
       "      <th>Documents Required</th>\n",
       "      <th>Source URL</th>\n",
       "      <th>Ministries/Departments</th>\n",
       "      <th>Target_Beneficiaries</th>\n",
       "    </tr>\n",
       "  </thead>\n",
       "  <tbody>\n",
       "    <tr>\n",
       "      <th>466</th>\n",
       "      <td>Loans and Advances for Construction of a House</td>\n",
       "      <td>[The construction worker should be registered ...</td>\n",
       "      <td>The \"Loans and Advances for Construction of a ...</td>\n",
       "      <td>['Construction Worker', 'House Construction', ...</td>\n",
       "      <td>[['Step-1: The interested applicant should vis...</td>\n",
       "      <td>Financial assistance for house construction fo...</td>\n",
       "      <td>Certificate of Registration.\\nPayment Receipt ...</td>\n",
       "      <td>https://www.myscheme.gov.in/schemes/lach</td>\n",
       "      <td>Labour and Employment Department</td>\n",
       "      <td>Manipur</td>\n",
       "    </tr>\n",
       "    <tr>\n",
       "      <th>1478</th>\n",
       "      <td>Pradhan Mantri Krishi Sinchayee Yojana: Per Dr...</td>\n",
       "      <td>[The applicant should be a citizen of India, A...</td>\n",
       "      <td>The scheme “Pradhan Mantri Krishi Sinchayee Yo...</td>\n",
       "      <td>['Agriculture', 'Crop', 'Farmer', 'Irrigation'...</td>\n",
       "      <td>[['Step 1: The farmers, based on the requireme...</td>\n",
       "      <td>Financial assistance to farmers for the instal...</td>\n",
       "      <td>Aadhaar Card\\nBank Account Details\\nAddress pr...</td>\n",
       "      <td>https://www.myscheme.gov.in/schemes/pmksypdmc</td>\n",
       "      <td>Department of Agriculture and Cooperation</td>\n",
       "      <td>All States</td>\n",
       "    </tr>\n",
       "  </tbody>\n",
       "</table>\n",
       "</div>"
      ],
      "text/plain": [
       "                                            Scheme Name  \\\n",
       "466      Loans and Advances for Construction of a House   \n",
       "1478  Pradhan Mantri Krishi Sinchayee Yojana: Per Dr...   \n",
       "\n",
       "                                            Eligibility  \\\n",
       "466   [The construction worker should be registered ...   \n",
       "1478  [The applicant should be a citizen of India, A...   \n",
       "\n",
       "                                                Details  \\\n",
       "466   The \"Loans and Advances for Construction of a ...   \n",
       "1478  The scheme “Pradhan Mantri Krishi Sinchayee Yo...   \n",
       "\n",
       "                                                   Tags  \\\n",
       "466   ['Construction Worker', 'House Construction', ...   \n",
       "1478  ['Agriculture', 'Crop', 'Farmer', 'Irrigation'...   \n",
       "\n",
       "                                    Application Process  \\\n",
       "466   [['Step-1: The interested applicant should vis...   \n",
       "1478  [['Step 1: The farmers, based on the requireme...   \n",
       "\n",
       "                                               Benefits  \\\n",
       "466   Financial assistance for house construction fo...   \n",
       "1478  Financial assistance to farmers for the instal...   \n",
       "\n",
       "                                     Documents Required  \\\n",
       "466   Certificate of Registration.\\nPayment Receipt ...   \n",
       "1478  Aadhaar Card\\nBank Account Details\\nAddress pr...   \n",
       "\n",
       "                                         Source URL  \\\n",
       "466        https://www.myscheme.gov.in/schemes/lach   \n",
       "1478  https://www.myscheme.gov.in/schemes/pmksypdmc   \n",
       "\n",
       "                         Ministries/Departments Target_Beneficiaries  \n",
       "466            Labour and Employment Department              Manipur  \n",
       "1478  Department of Agriculture and Cooperation           All States  "
      ]
     },
     "execution_count": 339,
     "metadata": {},
     "output_type": "execute_result"
    }
   ],
   "source": [
    "df.sample(2)"
   ]
  },
  {
   "cell_type": "code",
   "execution_count": 340,
   "id": "b7989302-d0c6-4807-8903-d8969af05b39",
   "metadata": {},
   "outputs": [],
   "source": [
    "# Tags"
   ]
  },
  {
   "cell_type": "code",
   "execution_count": 341,
   "id": "efadf7d8-74e2-4144-8986-cafcc33d59eb",
   "metadata": {},
   "outputs": [
    {
     "data": {
      "text/plain": [
       "1699    ['Artist', 'Cultural Competitions', 'Dance', '...\n",
       "806     ['Agro Ecology', 'Chemical-free Farming', 'Nat...\n",
       "2449    ['Financial Assistance', 'Leprosy Patient', 'V...\n",
       "Name: Tags, dtype: object"
      ]
     },
     "execution_count": 341,
     "metadata": {},
     "output_type": "execute_result"
    }
   ],
   "source": [
    "df['Tags'].sample(3)"
   ]
  },
  {
   "cell_type": "code",
   "execution_count": 342,
   "id": "6b22470a-7d96-42cd-a9b8-867c4eb70ba8",
   "metadata": {},
   "outputs": [],
   "source": [
    "# Application Process"
   ]
  },
  {
   "cell_type": "code",
   "execution_count": 343,
   "id": "aeea30e4-dd05-45a2-a39e-680ec3753432",
   "metadata": {},
   "outputs": [
    {
     "data": {
      "text/plain": [
       "18    [['Step 1: In the application form , fill in a...\n",
       "33    [[\"Step 1: Qualify in the Biotechnology Eligib...\n",
       "30    [['Mode of Application Eligible candidates nee...\n",
       "Name: Application Process, dtype: object"
      ]
     },
     "execution_count": 343,
     "metadata": {},
     "output_type": "execute_result"
    }
   ],
   "source": [
    "df['Application Process'].sample(3)"
   ]
  },
  {
   "cell_type": "code",
   "execution_count": 344,
   "id": "93e7325c-3c7a-41a9-83b7-1cb86bc619ae",
   "metadata": {},
   "outputs": [
    {
     "data": {
      "text/plain": [
       "\"[['Step 1: The interested applicant should visit the Directorate Of Art & Culture, Government of Goa, 5th Floor, Shram Shakti Bhavan, Panaji, Patto, Panaji, Goa - 403001 Step 2: Request a hard copy of the proforma from the concerned authority. Step 3: In the application form, fill in all the mandatory fields, paste the passport-sized photograph (signed across), and attach copies of all the mandatory documents (self-attest if required). Step 4: Submit the duly filled and signed application form along with the documents to the ACO-II, Directorate of Art & Culture, Phone: 0832-2404623, Email: aco3-dac.goa@nic.in']]\""
      ]
     },
     "execution_count": 344,
     "metadata": {},
     "output_type": "execute_result"
    }
   ],
   "source": [
    "df['Application Process'].iloc[166]"
   ]
  },
  {
   "cell_type": "code",
   "execution_count": 345,
   "id": "b07c94b0-fddf-44b6-a1c5-8cf50846cf64",
   "metadata": {},
   "outputs": [
    {
     "data": {
      "text/plain": [
       "'[[\"Download the application form https://filmfinance.assam.gov.in/portlets/film-finance from the official website. Fill in the required details accurately and completely. Attach supporting document Submit the application by visiting the designated government office. After submitting the application, it\\'s advisable to follow up with the concerned department or officials to track the progress of your application. \\\\ufeff\"]]'"
      ]
     },
     "execution_count": 345,
     "metadata": {},
     "output_type": "execute_result"
    }
   ],
   "source": [
    "df['Application Process'].iloc[184]"
   ]
  },
  {
   "cell_type": "code",
   "execution_count": 346,
   "id": "4d683f20-cbb0-4675-91d0-eae96fedfa35",
   "metadata": {},
   "outputs": [
    {
     "data": {
      "text/plain": [
       "'[[\\'Unregistered Applicant : All the applicant have to visit the official website Chhattisgarh Labour Department. On the home page click on \" Apply \" under \"Chhattisgarh Unorganized Workers State Social Security Board\". Enter the following details Select Group Name : \"Asangathit Marmakaar Mandal\" Select Service : \"Asangathit Shramik Panjikaran\" What do you want to do :  \"Aavedan\" Click next. Check the eligibility criteria for registration in Chhattisgarh Unorganized Workers State Social Security Board and click next. Fill out the online \"Registration form\". Submit. \\\\ufeff Already Registered Applicant : All the applicant have to visit the official website Chhattisgarh Labour Department. On the home page click on \" Apply \" under \"Chhattisgarh Unorganized Workers State Social Security Board\". Enter the following details Select Group Name : \"Asangathit Marmakaar Mandal\" Select Service : \"Yojana\" What do you want to do :  \"Aavedan\" Click next. Select your district name and provide old/new registration number and click next. Select the scheme name. Fill out the online with required details. Submit.\\']]'"
      ]
     },
     "execution_count": 346,
     "metadata": {},
     "output_type": "execute_result"
    }
   ],
   "source": [
    "df['Application Process'].iloc[64]"
   ]
  },
  {
   "cell_type": "code",
   "execution_count": 347,
   "id": "ac2cd052-897c-4db2-9d68-d692edac74ce",
   "metadata": {},
   "outputs": [],
   "source": [
    "import ast\n",
    "import html\n",
    "import re\n",
    "import pandas as pd\n",
    "\n",
    "def clean_application_process(raw: str) -> list[str]:\n",
    "    \"\"\"\n",
    "    Turn a stringified list of steps into a Python list of clean steps.\n",
    "    \"\"\"\n",
    "    try:\n",
    "        parsed = ast.literal_eval(raw)\n",
    "    except (ValueError, SyntaxError):\n",
    "        parsed = [raw]\n",
    "\n",
    "    if isinstance(parsed, list) and len(parsed) == 1 and isinstance(parsed[0], list):\n",
    "        parsed = parsed[0]\n",
    "\n",
    "    steps = []\n",
    "    for block in parsed:\n",
    "        txt = html.unescape(block)\n",
    "        txt = txt.replace('\\ufeff', '')\n",
    "\n",
    "        parts = re.split(r'(?:^|\\s)(?:Step\\s*\\d+:|\\d+\\.)\\s*', txt, flags=re.IGNORECASE | re.MULTILINE)\n",
    "\n",
    "        for part in parts:\n",
    "            clean = re.sub(r'\\s+', ' ', part).strip(' -:;•\\n\\r')\n",
    "            if clean:\n",
    "                steps.append(clean)\n",
    "\n",
    "    return steps\n",
    "\n",
    "# Apply to DataFrame\n",
    "df['Application Process'] = df['Application Process'].apply(clean_application_process)\n"
   ]
  },
  {
   "cell_type": "code",
   "execution_count": 348,
   "id": "a68b19be-7601-4d1b-92c5-ada81d3a84c5",
   "metadata": {},
   "outputs": [
    {
     "data": {
      "text/plain": [
       "['Unregistered Applicant : All the applicant have to visit the official website Chhattisgarh Labour Department. On the home page click on \" Apply \" under \"Chhattisgarh Unorganized Workers State Social Security Board\". Enter the following details Select Group Name : \"Asangathit Marmakaar Mandal\" Select Service : \"Asangathit Shramik Panjikaran\" What do you want to do : \"Aavedan\" Click next. Check the eligibility criteria for registration in Chhattisgarh Unorganized Workers State Social Security Board and click next. Fill out the online \"Registration form\". Submit. Already Registered Applicant : All the applicant have to visit the official website Chhattisgarh Labour Department. On the home page click on \" Apply \" under \"Chhattisgarh Unorganized Workers State Social Security Board\". Enter the following details Select Group Name : \"Asangathit Marmakaar Mandal\" Select Service : \"Yojana\" What do you want to do : \"Aavedan\" Click next. Select your district name and provide old/new registration number and click next. Select the scheme name. Fill out the online with required details. Submit.']"
      ]
     },
     "execution_count": 348,
     "metadata": {},
     "output_type": "execute_result"
    }
   ],
   "source": [
    "df['Application Process'].iloc[64]"
   ]
  },
  {
   "cell_type": "code",
   "execution_count": 349,
   "id": "cee6c1bd-aa90-4828-9baa-99e7bd3b4a6d",
   "metadata": {},
   "outputs": [],
   "source": [
    "# Benefits"
   ]
  },
  {
   "cell_type": "code",
   "execution_count": null,
   "id": "99871033-c2da-43e8-b1b8-c43c27787951",
   "metadata": {},
   "outputs": [],
   "source": []
  },
  {
   "cell_type": "code",
   "execution_count": 350,
   "id": "54e321fe-ca35-4822-a686-eccca9ad417c",
   "metadata": {},
   "outputs": [
    {
     "data": {
      "text/plain": [
       "2936    Decoration\\nThe Awardee is given a Citation, M...\n",
       "226     Pattern of Assistance:\\nTraining, Awareness pr...\n",
       "2095    Reimbursement of the cost of industry-standard...\n",
       "Name: Benefits, dtype: object"
      ]
     },
     "execution_count": 350,
     "metadata": {},
     "output_type": "execute_result"
    }
   ],
   "source": [
    "df['Benefits'].sample(3)"
   ]
  },
  {
   "cell_type": "code",
   "execution_count": 351,
   "id": "dce5d512-2cab-4d1b-8bd5-303db1cf2c07",
   "metadata": {},
   "outputs": [
    {
     "data": {
      "text/plain": [
       "'The beneficiary will be given maximum ₹2000 (direct in bank account) stipend for six days training. (Considering ₹300/- per day, ₹1800/- for 6 days as daily allowance and ₹200/- as to & fro transport fare with the maximum total stipend ₹2000/-)\\nBeneficiary will be given poultry training certificate after completion of training.'"
      ]
     },
     "execution_count": 351,
     "metadata": {},
     "output_type": "execute_result"
    }
   ],
   "source": [
    "df['Benefits'].iloc[45]"
   ]
  },
  {
   "cell_type": "code",
   "execution_count": 352,
   "id": "e2abd253-8418-4b13-8772-3feddf45740e",
   "metadata": {},
   "outputs": [
    {
     "data": {
      "text/plain": [
       "'50% of the cost of eligible components, subject to a maximum limit of ₹ 10,00,000/ -.\\nInvestments made after the energy audit alone will be eligible for the subsidy.\\n*The overall ceiling on subsidy should not be applied for the original energy audit and subsequent energy audit taken together but should be applied separately for the original energy audit and the subsequent energy audit.\\n\\ufeff\\nTime of Disbursal\\nThe subsidy will be released to the MSME after the implementation of the recommendations in the Energy Audit Report that is duly certified by the energy auditor.\\n*If the unit has availed a loan for the implementation of the recommendations of the energy audit, the subsidy will be released to the bank to adjust in the loan account if the loan is in currency.\\n\\ufeff'"
      ]
     },
     "execution_count": 352,
     "metadata": {},
     "output_type": "execute_result"
    }
   ],
   "source": [
    "df['Benefits'].iloc[37]"
   ]
  },
  {
   "cell_type": "code",
   "execution_count": 353,
   "id": "6d1e0f99-ebc4-48a8-8eab-d85498fc01d8",
   "metadata": {},
   "outputs": [
    {
     "data": {
      "text/plain": [
       "'Under this Scheme 200 of each of the Junior and Senior Fellows are selected every year.\\nThe stipend of ₹20,000/- per month will be given to each artist under the senior fellowships for a period of two years in the age group of above 40 years.\\nThe stipend of ₹10,000/- per month will be given to each artist under the junior fellowships for a period of two years in the age group of 25-40 years.\\nIn addition, there could be a one-time grant up to a maximum of ₹20,000/- or 50% of the cost of the publication, whichever is less, for the publication of selected Project documents. This will be restricted to 20% of the awardees.\\nNote:\\nThe fellowships are awarded for undertaking research-oriented projects. The applicant should provide evidence of his/her capabilities in undertaking the project.'"
      ]
     },
     "execution_count": 353,
     "metadata": {},
     "output_type": "execute_result"
    }
   ],
   "source": [
    "df['Benefits'].iloc[86]"
   ]
  },
  {
   "cell_type": "code",
   "execution_count": 354,
   "id": "ad8fc8ca-4f42-44dd-a2cd-782fa4d27ccd",
   "metadata": {},
   "outputs": [],
   "source": [
    "def clean_benefits(text: str) -> str:\n",
    "\n",
    "    if not isinstance(text, str):\n",
    "        return text\n",
    "\n",
    "    # 1. Strip out BOM/control chars\n",
    "    text = text.replace('\\ufeff', '').strip()\n",
    "\n",
    "    # 2. Normalize different dash types to simple hyphen\n",
    "    text = re.sub(r'[–—]', '-', text)\n",
    "\n",
    "    # 3. Split into lines, trim, drop empties\n",
    "    lines = [ln.strip() for ln in text.splitlines() if ln.strip()]\n",
    "\n",
    "    cleaned = []\n",
    "    for ln in lines:\n",
    "        # 4. Remove leading bullet markers but NOT digits or % signs\n",
    "        ln = re.sub(r'^[\\*\\u2022\\•\\-]+\\.?\\s*', '', ln)\n",
    "\n",
    "        # 5. Strip trailing periods for uniformity\n",
    "        ln = ln.rstrip('.')\n",
    "\n",
    "        # 6. Prepend markdown bullet\n",
    "        cleaned.append(f\"- {ln}\")\n",
    "\n",
    "    return \"\\n\".join(cleaned)\n",
    "\n"
   ]
  },
  {
   "cell_type": "code",
   "execution_count": 355,
   "id": "3128d4ac-d0c8-4f45-9105-d40a2e6322a5",
   "metadata": {},
   "outputs": [],
   "source": [
    "df['Benefits'] = df['Benefits'].apply(clean_benefits)"
   ]
  },
  {
   "cell_type": "code",
   "execution_count": 356,
   "id": "18eec631-db55-414d-92e5-dc3985cb8ace",
   "metadata": {},
   "outputs": [
    {
     "data": {
      "text/plain": [
       "'- 50% of the cost of eligible components, subject to a maximum limit of ₹ 10,00,000/ -\\n- Investments made after the energy audit alone will be eligible for the subsidy\\n- The overall ceiling on subsidy should not be applied for the original energy audit and subsequent energy audit taken together but should be applied separately for the original energy audit and the subsequent energy audit\\n- Time of Disbursal\\n- The subsidy will be released to the MSME after the implementation of the recommendations in the Energy Audit Report that is duly certified by the energy auditor\\n- If the unit has availed a loan for the implementation of the recommendations of the energy audit, the subsidy will be released to the bank to adjust in the loan account if the loan is in currency'"
      ]
     },
     "execution_count": 356,
     "metadata": {},
     "output_type": "execute_result"
    }
   ],
   "source": [
    "df['Benefits'].iloc[37]"
   ]
  },
  {
   "cell_type": "code",
   "execution_count": 357,
   "id": "45eb69fa-cd24-456f-9c94-81878f612ce7",
   "metadata": {},
   "outputs": [
    {
     "data": {
      "text/plain": [
       "472     Passport-size Photo.\\nAadhaar Card.\\nIdentity ...\n",
       "2091    Attested copy of the certificate indicating th...\n",
       "691     Aadhar card.\\nPermanent Residence Certificate....\n",
       "Name: Documents Required, dtype: object"
      ]
     },
     "execution_count": 357,
     "metadata": {},
     "output_type": "execute_result"
    }
   ],
   "source": [
    "df['Documents Required'].sample(3)"
   ]
  },
  {
   "cell_type": "code",
   "execution_count": 358,
   "id": "9b05d819-e41c-46da-b213-67c4d745f870",
   "metadata": {},
   "outputs": [
    {
     "data": {
      "text/plain": [
       "Index(['Scheme Name', 'Eligibility', 'Details', 'Tags', 'Application Process',\n",
       "       'Benefits', 'Documents Required', 'Source URL',\n",
       "       'Ministries/Departments', 'Target_Beneficiaries'],\n",
       "      dtype='object')"
      ]
     },
     "execution_count": 358,
     "metadata": {},
     "output_type": "execute_result"
    }
   ],
   "source": [
    "df.columns"
   ]
  },
  {
   "cell_type": "code",
   "execution_count": 359,
   "id": "8164f674-fb9d-4f4a-9a82-f68c04228512",
   "metadata": {},
   "outputs": [],
   "source": [
    "df.rename(\n",
    "    columns={\n",
    "        'Scheme Name': 'scheme_name',\n",
    "        'Application Process': 'application_process',\n",
    "        \"Documents Required\" : 'documents_required',\n",
    "        'Source URL' : 'source_url',\n",
    "        'Eligibility' : 'eligibility',\n",
    "        'Details' : 'details',\n",
    "        'Ministries/Departments' : 'ministries/departments',\n",
    "        'Target_Beneficiaries' : 'target_beneficiaries_states',\n",
    "        'Tags' : 'tags',\n",
    "        'Benefits' : 'benefits'\n",
    "        \n",
    "    },\n",
    "    inplace=True\n",
    ")"
   ]
  },
  {
   "cell_type": "code",
   "execution_count": 360,
   "id": "7cbe775a-0c73-4aa6-a311-4959d80dc8fd",
   "metadata": {},
   "outputs": [
    {
     "name": "stdout",
     "output_type": "stream",
     "text": [
      "<class 'pandas.core.frame.DataFrame'>\n",
      "Index: 3313 entries, 0 to 3322\n",
      "Data columns (total 10 columns):\n",
      " #   Column                       Non-Null Count  Dtype \n",
      "---  ------                       --------------  ----- \n",
      " 0   scheme_name                  3313 non-null   object\n",
      " 1   eligibility                  3313 non-null   object\n",
      " 2   details                      3313 non-null   object\n",
      " 3   tags                         3313 non-null   object\n",
      " 4   application_process          3313 non-null   object\n",
      " 5   benefits                     3313 non-null   object\n",
      " 6   documents_required           3311 non-null   object\n",
      " 7   source_url                   3313 non-null   object\n",
      " 8   ministries/departments       3313 non-null   object\n",
      " 9   target_beneficiaries_states  3313 non-null   object\n",
      "dtypes: object(10)\n",
      "memory usage: 284.7+ KB\n"
     ]
    }
   ],
   "source": [
    "df.info()"
   ]
  },
  {
   "cell_type": "code",
   "execution_count": 363,
   "id": "4046befd-5092-44a8-a4b5-7d527ba2bcd6",
   "metadata": {},
   "outputs": [
    {
     "data": {
      "text/html": [
       "<div>\n",
       "<style scoped>\n",
       "    .dataframe tbody tr th:only-of-type {\n",
       "        vertical-align: middle;\n",
       "    }\n",
       "\n",
       "    .dataframe tbody tr th {\n",
       "        vertical-align: top;\n",
       "    }\n",
       "\n",
       "    .dataframe thead th {\n",
       "        text-align: right;\n",
       "    }\n",
       "</style>\n",
       "<table border=\"1\" class=\"dataframe\">\n",
       "  <thead>\n",
       "    <tr style=\"text-align: right;\">\n",
       "      <th></th>\n",
       "      <th>scheme_name</th>\n",
       "      <th>eligibility</th>\n",
       "      <th>details</th>\n",
       "      <th>tags</th>\n",
       "      <th>application_process</th>\n",
       "      <th>benefits</th>\n",
       "      <th>documents_required</th>\n",
       "      <th>source_url</th>\n",
       "      <th>ministries/departments</th>\n",
       "      <th>target_beneficiaries_states</th>\n",
       "    </tr>\n",
       "  </thead>\n",
       "  <tbody>\n",
       "    <tr>\n",
       "      <th>2782</th>\n",
       "      <td>PM POSHAN - Prime Minister's Overarching Schem...</td>\n",
       "      <td>[The applicant must be a citizen of India, The...</td>\n",
       "      <td>PM POSHAN is a centrally sponsored scheme by t...</td>\n",
       "      <td>['Children', 'Health', 'School']</td>\n",
       "      <td>[There is no application process for this sche...</td>\n",
       "      <td>- Nutrition norm per child per day:\\n- Primary...</td>\n",
       "      <td>NaN</td>\n",
       "      <td>https://www.myscheme.gov.in/schemes/pm-poshan</td>\n",
       "      <td>unknown</td>\n",
       "      <td>All States</td>\n",
       "    </tr>\n",
       "    <tr>\n",
       "      <th>2785</th>\n",
       "      <td>Pradhan Mantri Suraksha Bima Yojana</td>\n",
       "      <td>[Individual bank account holders of participat...</td>\n",
       "      <td>An Accident Insurance Scheme offering accident...</td>\n",
       "      <td>['Accident Insurance', 'Bank Account Holders',...</td>\n",
       "      <td>[In order to enrol in PMSBY offline, one can v...</td>\n",
       "      <td>- On Death- the Nominee shall get Rs. 2 Lakhs\\...</td>\n",
       "      <td>NaN</td>\n",
       "      <td>https://www.myscheme.gov.in/schemes/pmsby</td>\n",
       "      <td>Department of Financial Service</td>\n",
       "      <td>All States</td>\n",
       "    </tr>\n",
       "  </tbody>\n",
       "</table>\n",
       "</div>"
      ],
      "text/plain": [
       "                                            scheme_name  \\\n",
       "2782  PM POSHAN - Prime Minister's Overarching Schem...   \n",
       "2785                Pradhan Mantri Suraksha Bima Yojana   \n",
       "\n",
       "                                            eligibility  \\\n",
       "2782  [The applicant must be a citizen of India, The...   \n",
       "2785  [Individual bank account holders of participat...   \n",
       "\n",
       "                                                details  \\\n",
       "2782  PM POSHAN is a centrally sponsored scheme by t...   \n",
       "2785  An Accident Insurance Scheme offering accident...   \n",
       "\n",
       "                                                   tags  \\\n",
       "2782                   ['Children', 'Health', 'School']   \n",
       "2785  ['Accident Insurance', 'Bank Account Holders',...   \n",
       "\n",
       "                                    application_process  \\\n",
       "2782  [There is no application process for this sche...   \n",
       "2785  [In order to enrol in PMSBY offline, one can v...   \n",
       "\n",
       "                                               benefits documents_required  \\\n",
       "2782  - Nutrition norm per child per day:\\n- Primary...                NaN   \n",
       "2785  - On Death- the Nominee shall get Rs. 2 Lakhs\\...                NaN   \n",
       "\n",
       "                                         source_url  \\\n",
       "2782  https://www.myscheme.gov.in/schemes/pm-poshan   \n",
       "2785      https://www.myscheme.gov.in/schemes/pmsby   \n",
       "\n",
       "               ministries/departments target_beneficiaries_states  \n",
       "2782                          unknown                  All States  \n",
       "2785  Department of Financial Service                  All States  "
      ]
     },
     "execution_count": 363,
     "metadata": {},
     "output_type": "execute_result"
    }
   ],
   "source": [
    "df[df['documents_required'].isnull() == True]"
   ]
  },
  {
   "cell_type": "code",
   "execution_count": null,
   "id": "ceb2f6a0-d628-42a0-bf4c-8bd7afdecf4c",
   "metadata": {},
   "outputs": [],
   "source": [
    "# For above 2 scheme not documents required is mention on their respective pages"
   ]
  },
  {
   "cell_type": "code",
   "execution_count": 364,
   "id": "febb2511-8eeb-4c7d-b111-00fab6f9be18",
   "metadata": {},
   "outputs": [],
   "source": [
    "df['documents_required'] = df['documents_required'].fillna(\"No documents requirement\")"
   ]
  },
  {
   "cell_type": "code",
   "execution_count": 365,
   "id": "94abac56-84a3-4665-a044-04e732f82133",
   "metadata": {},
   "outputs": [
    {
     "name": "stdout",
     "output_type": "stream",
     "text": [
      "<class 'pandas.core.frame.DataFrame'>\n",
      "Index: 3313 entries, 0 to 3322\n",
      "Data columns (total 10 columns):\n",
      " #   Column                       Non-Null Count  Dtype \n",
      "---  ------                       --------------  ----- \n",
      " 0   scheme_name                  3313 non-null   object\n",
      " 1   eligibility                  3313 non-null   object\n",
      " 2   details                      3313 non-null   object\n",
      " 3   tags                         3313 non-null   object\n",
      " 4   application_process          3313 non-null   object\n",
      " 5   benefits                     3313 non-null   object\n",
      " 6   documents_required           3313 non-null   object\n",
      " 7   source_url                   3313 non-null   object\n",
      " 8   ministries/departments       3313 non-null   object\n",
      " 9   target_beneficiaries_states  3313 non-null   object\n",
      "dtypes: object(10)\n",
      "memory usage: 284.7+ KB\n"
     ]
    }
   ],
   "source": [
    "df.info()"
   ]
  },
  {
   "cell_type": "code",
   "execution_count": 366,
   "id": "8a84ff2a-260e-460f-a8e2-8b157936e9dc",
   "metadata": {},
   "outputs": [],
   "source": [
    "df.to_csv(\"cleaned_my_scheme_data.csv\", index=False, encoding='utf-8')"
   ]
  },
  {
   "cell_type": "code",
   "execution_count": 367,
   "id": "bee7f1dc-16d4-4e5c-a60a-3a89d458eef1",
   "metadata": {},
   "outputs": [
    {
     "data": {
      "text/plain": [
       "Index(['scheme_name', 'eligibility', 'details', 'tags', 'application_process',\n",
       "       'benefits', 'documents_required', 'source_url',\n",
       "       'ministries/departments', 'target_beneficiaries_states'],\n",
       "      dtype='object')"
      ]
     },
     "execution_count": 367,
     "metadata": {},
     "output_type": "execute_result"
    }
   ],
   "source": [
    "df.columns"
   ]
  },
  {
   "cell_type": "code",
   "execution_count": 368,
   "id": "c7fe3908-4e04-461c-bf4c-7af8a66dfe72",
   "metadata": {},
   "outputs": [],
   "source": [
    "df_ques = df.sample(1000)"
   ]
  },
  {
   "cell_type": "code",
   "execution_count": 369,
   "id": "e454fc4e-6cd2-4d05-bac0-b6f2feb6ed1a",
   "metadata": {},
   "outputs": [],
   "source": [
    "df_ques.to_csv(\"cleaned_my_scheme_data_1000.csv\", index=False, encoding='utf-8')"
   ]
  },
  {
   "cell_type": "code",
   "execution_count": null,
   "id": "563d3bb3-44f9-4ed4-9be2-4f2784f6c3c2",
   "metadata": {},
   "outputs": [],
   "source": []
  }
 ],
 "metadata": {
  "kernelspec": {
   "display_name": "Python 3 (ipykernel)",
   "language": "python",
   "name": "python3"
  },
  "language_info": {
   "codemirror_mode": {
    "name": "ipython",
    "version": 3
   },
   "file_extension": ".py",
   "mimetype": "text/x-python",
   "name": "python",
   "nbconvert_exporter": "python",
   "pygments_lexer": "ipython3",
   "version": "3.11.4"
  }
 },
 "nbformat": 4,
 "nbformat_minor": 5
}
